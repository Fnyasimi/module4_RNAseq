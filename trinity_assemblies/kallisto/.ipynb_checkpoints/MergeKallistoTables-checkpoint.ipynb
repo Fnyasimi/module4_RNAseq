{
 "cells": [
  {
   "cell_type": "code",
   "execution_count": 1,
   "metadata": {
    "collapsed": true
   },
   "outputs": [],
   "source": [
    "samples=c(\"Sample_118A\",\n",
    "          \"Sample_119B\",\n",
    "          \"Sample_120A\",\n",
    "          \"DF5\",\"DF19\",\n",
    "          \"Sample_103A\",\n",
    "          \"Sample_104B\",\n",
    "          \"Sample_105B\",\n",
    "          \"spike_Z32_rep1\",\n",
    "          \"spike_Z32_rep2\")"
   ]
  },
  {
   "cell_type": "code",
   "execution_count": 5,
   "metadata": {
    "collapsed": false
   },
   "outputs": [
    {
     "data": {
      "text/html": [
       "<table>\n",
       "<thead><tr><th scope=col>target_id</th><th scope=col>length</th><th scope=col>eff_length</th><th scope=col>est_counts</th><th scope=col>tpm</th></tr></thead>\n",
       "<tbody>\n",
       "\t<tr><td>TRINITY_DN98_c0_g1_i1</td><td> 985                 </td><td>795.675              </td><td> 761                 </td><td>228.4610             </td></tr>\n",
       "\t<tr><td>TRINITY_DN2_c0_g1_i1 </td><td>1096                 </td><td>906.675              </td><td>1281                 </td><td>337.4900             </td></tr>\n",
       "\t<tr><td>TRINITY_DN48_c0_g1_i1</td><td> 789                 </td><td>599.675              </td><td>  80                 </td><td> 31.8667             </td></tr>\n",
       "\t<tr><td>TRINITY_DN70_c0_g1_i1</td><td>1074                 </td><td>884.675              </td><td> 922                 </td><td>248.9490             </td></tr>\n",
       "\t<tr><td>TRINITY_DN66_c0_g1_i1</td><td> 365                 </td><td>184.299              </td><td>   0                 </td><td>  0.0000             </td></tr>\n",
       "\t<tr><td>TRINITY_DN66_c0_g1_i2</td><td> 321                 </td><td>146.208              </td><td>   0                 </td><td>  0.0000             </td></tr>\n",
       "</tbody>\n",
       "</table>\n"
      ],
      "text/latex": [
       "\\begin{tabular}{r|lllll}\n",
       " target\\_id & length & eff\\_length & est\\_counts & tpm\\\\\n",
       "\\hline\n",
       "\t TRINITY\\_DN98\\_c0\\_g1\\_i1 &  985                          & 795.675                       &  761                          & 228.4610                     \\\\\n",
       "\t TRINITY\\_DN2\\_c0\\_g1\\_i1  & 1096                          & 906.675                       & 1281                          & 337.4900                     \\\\\n",
       "\t TRINITY\\_DN48\\_c0\\_g1\\_i1 &  789                          & 599.675                       &   80                          &  31.8667                     \\\\\n",
       "\t TRINITY\\_DN70\\_c0\\_g1\\_i1 & 1074                          & 884.675                       &  922                          & 248.9490                     \\\\\n",
       "\t TRINITY\\_DN66\\_c0\\_g1\\_i1 &  365                          & 184.299                       &    0                          &   0.0000                     \\\\\n",
       "\t TRINITY\\_DN66\\_c0\\_g1\\_i2 &  321                          & 146.208                       &    0                          &   0.0000                     \\\\\n",
       "\\end{tabular}\n"
      ],
      "text/markdown": [
       "\n",
       "target_id | length | eff_length | est_counts | tpm | \n",
       "|---|---|---|---|---|---|\n",
       "| TRINITY_DN98_c0_g1_i1 |  985                  | 795.675               |  761                  | 228.4610              | \n",
       "| TRINITY_DN2_c0_g1_i1  | 1096                  | 906.675               | 1281                  | 337.4900              | \n",
       "| TRINITY_DN48_c0_g1_i1 |  789                  | 599.675               |   80                  |  31.8667              | \n",
       "| TRINITY_DN70_c0_g1_i1 | 1074                  | 884.675               |  922                  | 248.9490              | \n",
       "| TRINITY_DN66_c0_g1_i1 |  365                  | 184.299               |    0                  |   0.0000              | \n",
       "| TRINITY_DN66_c0_g1_i2 |  321                  | 146.208               |    0                  |   0.0000              | \n",
       "\n",
       "\n"
      ],
      "text/plain": [
       "  target_id             length eff_length est_counts tpm     \n",
       "1 TRINITY_DN98_c0_g1_i1  985   795.675     761       228.4610\n",
       "2 TRINITY_DN2_c0_g1_i1  1096   906.675    1281       337.4900\n",
       "3 TRINITY_DN48_c0_g1_i1  789   599.675      80        31.8667\n",
       "4 TRINITY_DN70_c0_g1_i1 1074   884.675     922       248.9490\n",
       "5 TRINITY_DN66_c0_g1_i1  365   184.299       0         0.0000\n",
       "6 TRINITY_DN66_c0_g1_i2  321   146.208       0         0.0000"
      ]
     },
     "metadata": {},
     "output_type": "display_data"
    },
    {
     "data": {
      "text/html": [
       "<table>\n",
       "<thead><tr><th scope=col>target_id</th><th scope=col>tpm</th></tr></thead>\n",
       "<tbody>\n",
       "\t<tr><td>TRINITY_DN98_c0_g1_i1</td><td>228.4610             </td></tr>\n",
       "\t<tr><td>TRINITY_DN2_c0_g1_i1 </td><td>337.4900             </td></tr>\n",
       "\t<tr><td>TRINITY_DN48_c0_g1_i1</td><td> 31.8667             </td></tr>\n",
       "\t<tr><td>TRINITY_DN70_c0_g1_i1</td><td>248.9490             </td></tr>\n",
       "\t<tr><td>TRINITY_DN66_c0_g1_i1</td><td>  0.0000             </td></tr>\n",
       "\t<tr><td>TRINITY_DN66_c0_g1_i2</td><td>  0.0000             </td></tr>\n",
       "</tbody>\n",
       "</table>\n"
      ],
      "text/latex": [
       "\\begin{tabular}{r|ll}\n",
       " target\\_id & tpm\\\\\n",
       "\\hline\n",
       "\t TRINITY\\_DN98\\_c0\\_g1\\_i1 & 228.4610                     \\\\\n",
       "\t TRINITY\\_DN2\\_c0\\_g1\\_i1  & 337.4900                     \\\\\n",
       "\t TRINITY\\_DN48\\_c0\\_g1\\_i1 &  31.8667                     \\\\\n",
       "\t TRINITY\\_DN70\\_c0\\_g1\\_i1 & 248.9490                     \\\\\n",
       "\t TRINITY\\_DN66\\_c0\\_g1\\_i1 &   0.0000                     \\\\\n",
       "\t TRINITY\\_DN66\\_c0\\_g1\\_i2 &   0.0000                     \\\\\n",
       "\\end{tabular}\n"
      ],
      "text/markdown": [
       "\n",
       "target_id | tpm | \n",
       "|---|---|---|---|---|---|\n",
       "| TRINITY_DN98_c0_g1_i1 | 228.4610              | \n",
       "| TRINITY_DN2_c0_g1_i1  | 337.4900              | \n",
       "| TRINITY_DN48_c0_g1_i1 |  31.8667              | \n",
       "| TRINITY_DN70_c0_g1_i1 | 248.9490              | \n",
       "| TRINITY_DN66_c0_g1_i1 |   0.0000              | \n",
       "| TRINITY_DN66_c0_g1_i2 |   0.0000              | \n",
       "\n",
       "\n"
      ],
      "text/plain": [
       "  target_id             tpm     \n",
       "1 TRINITY_DN98_c0_g1_i1 228.4610\n",
       "2 TRINITY_DN2_c0_g1_i1  337.4900\n",
       "3 TRINITY_DN48_c0_g1_i1  31.8667\n",
       "4 TRINITY_DN70_c0_g1_i1 248.9490\n",
       "5 TRINITY_DN66_c0_g1_i1   0.0000\n",
       "6 TRINITY_DN66_c0_g1_i2   0.0000"
      ]
     },
     "metadata": {},
     "output_type": "display_data"
    }
   ],
   "source": [
    "tmp<-read.csv(paste0(\"kallisto_out/\",\"Sample_118A\",\"/abundance.tsv\"), sep=\"\\t\")\n",
    "head(tmp)\n",
    "tpms<-tmp[,c(\"target_id\", \"tpm\")]\n",
    "head(tpms)\n",
    "counts<-tmp[,c(\"target_id\", \"est_counts\")]\n",
    "head(counts)"
   ]
  },
  {
   "cell_type": "code",
   "execution_count": null,
   "metadata": {
    "collapsed": true
   },
   "outputs": [],
   "source": [
    "samples=c(\"Sample_118A\",\n",
    "          \"Sample_119B\",\n",
    "          \"Sample_120A\",\n",
    "          \"DF5\",\"DF19\",\n",
    "          \"Sample_103A\",\n",
    "          \"Sample_104B\",\n",
    "          \"Sample_105B\",\n",
    "          \"spike_Z32_rep1\",\n",
    "          \"spike_Z32_rep2\")"
   ]
  }
 ],
 "metadata": {
  "kernelspec": {
   "display_name": "R",
   "language": "R",
   "name": "ir"
  },
  "language_info": {
   "codemirror_mode": "r",
   "file_extension": ".r",
   "mimetype": "text/x-r-source",
   "name": "R",
   "pygments_lexer": "r",
   "version": "3.3.2"
  }
 },
 "nbformat": 4,
 "nbformat_minor": 2
}
